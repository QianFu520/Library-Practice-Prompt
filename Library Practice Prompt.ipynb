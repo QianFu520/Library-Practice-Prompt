{
 "cells": [
  {
   "cell_type": "markdown",
   "id": "4b6dfc1f",
   "metadata": {},
   "source": [
    "The following prompt is a practice prompt, and will be based around creating a library system. Please, follow the prompts to complete the assignment. Please use all variable names that we have requested in the prompts. When we have not requested a particular variable name, you are welcome to choose whatever variable name you would like. Once you have finished your solution for these prompts, you should be able to answer the questions in the Coursera practice quizzes that rely on this notebook.\n",
    "\n",
    "Please, use this space as a way to become comfortable with using jupyter notebooks if you are not already familiar with them. Select the section called \"User Interface Tour\" within the \"Help\" tab in the Notebook Menubar if you are unfamiliar with how to use the tool. To run a block of code, you can either select the \"Run Cells\" in the Notebook Menubar \"Cell\" tab or you can use the standard shortcut: Shift + Enter. Remember that you can run cells out of order. This is not likely to affect the tasks that you will be completing, but you may overwrite a variable's value in a way you aren't expecting if the same variable is assigned in different cells and you run the cells out of order.\n",
    "\n",
    "A class called Book has already been partially defined. You are tasked with completing the class definition. Book takes two input variables in the following order, title and author, which are strings. There should be two instance variables, title, and author. You should create 1 method for Book. The method will be the __str__ method. When an instance of the book class is printed out, it should use the following format:\n",
    "\n",
    "\"Author: {author name here}, Title: {title of book here}.\""
   ]
  },
  {
   "cell_type": "code",
   "execution_count": 1,
   "id": "3a4baf8b",
   "metadata": {},
   "outputs": [],
   "source": [
    "class Book():\n",
    "    def __init__(self, title, author):\n",
    "        self.title = title.strip()\n",
    "        self.author = author.strip()\n",
    "        \n",
    "    def __str__(self):\n",
    "        return f\"Author: {self.author}, Title: {self.title}.\"\n",
    "        #fill this in"
   ]
  },
  {
   "cell_type": "markdown",
   "id": "61dd13e4",
   "metadata": {},
   "source": [
    "A class called Library has already been partially defined. You are tasked with completing the class definition. Library takes one input variable, name, which is a string that represents the name of the library. There should be two attributes/instance variables, name, and books.\n",
    "2a. You will need to set the default value for books to be an empty dictionary.\n",
    "\n",
    "2b. You should create a method called add_book, which has one parameter which is an instance of the Book class. In add_book, you will check to see if a book is already in the dictionary books.\n",
    "\n",
    "If the book is not already in the library instance, then you should add the book to the library, using a tuple of the author and title as the key, and setting the value as another dictionary with two key value pairs. One key is 'checked_out' which is set to 0. The other is 'available' which is set to 1. \n",
    "However, if the book is already in the library instance, then you will increase the value of that book's 'available' key-value pair by 1. \n",
    "The method should return None. An example of what a \"book\" in the books dictionary looks like is in the following cell, above the partially defined Library class. \n",
    "Create another method for the Library class called can_check_out which takes in a Book instance, checks to see if any copies of that book are available, and either returns True if it can be checked out or returns False if it cannot be checked out. If the book is not in the library at all, it should return the string:\n",
    "\n",
    " \"The book you are looking for has not been added to this library yet.\""
   ]
  },
  {
   "cell_type": "code",
   "execution_count": 2,
   "id": "19fe46d1",
   "metadata": {},
   "outputs": [
    {
     "name": "stdout",
     "output_type": "stream",
     "text": [
      "{'checked_out': 0, 'available': 1}\n",
      "1\n"
     ]
    }
   ],
   "source": [
    "example = {(\"Merriam-Webster\", \"Webster's Dictionary\"): {\"checked_out\": 0, \"available\": 1}}\n",
    "print(example[(\"Merriam-Webster\", \"Webster's Dictionary\")])\n",
    "print(example[(\"Merriam-Webster\", \"Webster's Dictionary\")]['available'])\n",
    "\n",
    "class Library:\n",
    "    def __init__(self, name):\n",
    "        self.name = name\n",
    "        self.books = {}\n",
    "        #fill in here to define the books attribute/instance variable\n",
    "        \n",
    "    # add_book takes a Book instance, and checks to see if the Book is not in self.books. If it's not\n",
    "    # then a new key value pair is added to the dictionary. If it is in books, then the data stored\n",
    "    # in the key 'available' is updated for that book.\n",
    "    def add_book(self, book_inst):\n",
    "        if (book_inst.author, book_inst.title) not in self.books:\n",
    "            self.books[(book_inst.author, book_inst.title)] = {\"checked_out\": 0, \"available\": 1}\n",
    "            \n",
    "            # fill in here\n",
    "        else:\n",
    "            self.books[(book_inst.author, book_inst.title)][\"available\"]+=1\n",
    "            # fill in here\n",
    "         \n",
    "    # can_check_out will take a Book instance as input. Checks to see if the book is in the dictionary\n",
    "    # of books. If it is, then it checks to see if the value of available is 1 or more. If it is, then it \n",
    "    # returns True. If it does not, then it returns False. If the book cannot be found, then a string is returned\n",
    "    # to the user to inform them of this occurrence.\n",
    "    def can_check_out(self, book_inst):\n",
    "        book = (book_inst.author, book_inst.title)\n",
    "        if book in self.books:\n",
    "            if self.books[book][\"available\"] > 0:\n",
    "                return True\n",
    "            else:\n",
    "                return False\n",
    "        if book not in self.books:\n",
    "            return \"The book you are looking for has not been added to this library yet.\"\n",
    "            "
   ]
  },
  {
   "cell_type": "markdown",
   "id": "e5ffc05f",
   "metadata": {},
   "source": [
    "Finally, we have included a text file with inventory for a library. Each line in the file has an author name and title for a book, separated by the \"-\" character. Your task is to read in the data from the file called list_of_books.txt, create a list of Book instances for all lines in the text file and assign that to the variable book_list. There is an instance of the Library class called hatcher; you must add all of the Book instances to hatcher. Be sure to remove any whitespace from the beginning or end of a book title or author name."
   ]
  },
  {
   "cell_type": "code",
   "execution_count": 3,
   "id": "4c770790",
   "metadata": {},
   "outputs": [
    {
     "ename": "FileNotFoundError",
     "evalue": "[Errno 2] No such file or directory: 'list_of_books.txt'",
     "output_type": "error",
     "traceback": [
      "\u001b[1;31m---------------------------------------------------------------------------\u001b[0m",
      "\u001b[1;31mFileNotFoundError\u001b[0m                         Traceback (most recent call last)",
      "Cell \u001b[1;32mIn [3], line 1\u001b[0m\n\u001b[1;32m----> 1\u001b[0m f \u001b[38;5;241m=\u001b[39m \u001b[38;5;28;43mopen\u001b[39;49m\u001b[43m(\u001b[49m\u001b[38;5;124;43m'\u001b[39;49m\u001b[38;5;124;43mlist_of_books.txt\u001b[39;49m\u001b[38;5;124;43m'\u001b[39;49m\u001b[43m)\u001b[49m\u001b[38;5;241m.\u001b[39mreadlines()\n\u001b[0;32m      2\u001b[0m book_list \u001b[38;5;241m=\u001b[39m []\n\u001b[0;32m      3\u001b[0m \u001b[38;5;28;01mfor\u001b[39;00m book \u001b[38;5;129;01min\u001b[39;00m f:\n",
      "\u001b[1;31mFileNotFoundError\u001b[0m: [Errno 2] No such file or directory: 'list_of_books.txt'"
     ]
    }
   ],
   "source": [
    "f = open('list_of_books.txt').readlines()\n",
    "book_list = []\n",
    "for book in f:\n",
    "    author, title = map(str.strip, book.split('-'))\n",
    "    instance = Book(title, author)\n",
    "    #fill in here\n",
    "    book_list.append(instance) # the variable instance should be assigned an instance of the Book class.\n",
    "\n",
    "hatcher = Library(\"Hatcher Graduate Library\")\n",
    "for book in book_list:\n",
    "    hatcher.add_book(book)\n",
    "#fill in here"
   ]
  },
  {
   "cell_type": "code",
   "execution_count": null,
   "id": "24fe7f62",
   "metadata": {},
   "outputs": [],
   "source": []
  }
 ],
 "metadata": {
  "kernelspec": {
   "display_name": "Python (dojo-env)",
   "language": "python",
   "name": "dojo-env"
  },
  "language_info": {
   "codemirror_mode": {
    "name": "ipython",
    "version": 3
   },
   "file_extension": ".py",
   "mimetype": "text/x-python",
   "name": "python",
   "nbconvert_exporter": "python",
   "pygments_lexer": "ipython3",
   "version": "3.8.13"
  },
  "toc": {
   "base_numbering": 1,
   "nav_menu": {},
   "number_sections": false,
   "sideBar": true,
   "skip_h1_title": false,
   "title_cell": "Table of Contents",
   "title_sidebar": "Contents",
   "toc_cell": false,
   "toc_position": {},
   "toc_section_display": true,
   "toc_window_display": false
  }
 },
 "nbformat": 4,
 "nbformat_minor": 5
}
